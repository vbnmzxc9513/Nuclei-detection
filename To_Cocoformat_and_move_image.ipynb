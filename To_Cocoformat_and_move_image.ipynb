{
 "cells": [
  {
   "cell_type": "code",
   "execution_count": null,
   "metadata": {},
   "outputs": [],
   "source": [
    "from os import listdir\n",
    "from os.path import isfile, isdir, join\n",
    "import shutil\n",
    "import cv2\n",
    "import numpy as np\n",
    "\n",
    "inpath = \"./train_folder/\"  # the train folder download from kaggle\n",
    "outpath = \"./train/\"  # the folder putting all nuclei image\n",
    "\n",
    "images_name = listdir(inpath)\n",
    "cocoformat = {\"licenses\":[], "info\":[], "images\":[], \"annotations\":[], \"categories\":[]}"
   ]
  },
  {
   "cell_type": "markdown",
   "metadata": {},
   "source": [
    "categories"
   ]
  },
  {
   "cell_type": "code",
   "execution_count": null,
   "metadata": {},
   "outputs": [],
   "source": [
    "cat = {\"id\": 1, \n",
    "       \"name\": \"nucleus\", \n",
    "       \"supercategory\": \"nucleus\",\n",
    "      }\n",
    "cocoformat[\"categories\"].append(cat)"
   ]
  },
  {
   "cell_type": "markdown",
   "metadata": {},
   "source": [
    "images + annotations"
   ]
  },
  {
   "cell_type": "code",
   "execution_count": null,
   "metadata": {},
   "outputs": [],
   "source": [
    "mask_id = 1\n",
    "for i, im_name in enumerate(images_name):\n",
    "    t_image = cv2.imread(inpath + im_name + \"/images/\" + im_name + \".png\")\n",
    "    mask_folder = listdir(inpath + im_name + \"/masks/\")\n",
    "    im = {\"id\": int(i+1), \n",
    "          \"width\": int(t_image.shape[1]), \n",
    "          \"height\": int(t_image.shape[0]), \n",
    "          \"file_name\": im_name + \".png\",\n",
    "         }\n",
    "    cocoformat[\"images\"].append(im)\n",
    "    for mask in mask_folder:\n",
    "        t_image = cv2.imread(inpath + im_name + \"/masks/\" + mask, 0)\n",
    "        ret, binary = cv2.threshold(t_image,127,255,cv2.THRESH_BINARY)\n",
    "        contours, hierarchy = cv2.findContours(binary,cv2.RETR_TREE,cv2.CHAIN_APPROX_SIMPLE)\n",
    "        t_seg = np.where(t_image[:,:]==255)\n",
    "        \n",
    "        all_seg_in_mask = []\n",
    "        for s in range(len(contours)):\n",
    "            seg = []\n",
    "            for x in range(len(contours[s])):\n",
    "                seg.append(int(contours[s][x][0][0]))\n",
    "                seg.append(int(contours[s][x][0][1]))\n",
    "            all_seg_in_mask.append(seg)\n",
    "        ann = {\"id\": int(mask_id), \n",
    "               \"image_id\": int(i) + 1, \n",
    "               \"category_id\": int(1), \n",
    "               \"segmentation\": all_seg_in_mask, \n",
    "               \"area\": float(len(t_seg[0])), \n",
    "               \"bbox\": [int(np.min(t_seg[1])), int(np.min(t_seg[0])), int(np.max(t_seg[1]) - np.min(t_seg[1])), \n",
    "                        int(np.max(t_seg[0]) - np.min(t_seg[0]))], \n",
    "               \"iscrowd\": 0,\n",
    "              }\n",
    "        mask_id = mask_i+1\n",
    "        cocoformat[\"annotations\"].append(ann)"
   ]
  },
  {
   "cell_type": "code",
   "execution_count": null,
   "metadata": {},
   "outputs": [],
   "source": [
    "import json\n",
    "with open(\"nucleus_cocoformat.json\", \"w\") as f:\n",
    "    json.dump(cocoformat, f)"
   ]
  },
  {
   "cell_type": "markdown",
   "metadata": {},
   "source": [
    "copy image to one folder"
   ]
  },
  {
   "cell_type": "code",
   "execution_count": null,
   "metadata": {},
   "outputs": [],
   "source": [
    "# use loop to save images\n",
    "for f in files:\n",
    "    image = listdir(inpath + f + \"/images/\")\n",
    "    shutil.copyfile(inpath + f + \"/images/\" + image[0], outpath + image[0])"
   ]
  }
 ],
 "metadata": {
  "kernelspec": {
   "display_name": "Python 3",
   "language": "python",
   "name": "python3"
  },
  "language_info": {
   "codemirror_mode": {
    "name": "ipython",
    "version": 3
   },
   "file_extension": ".py",
   "mimetype": "text/x-python",
   "name": "python",
   "nbconvert_exporter": "python",
   "pygments_lexer": "ipython3",
   "version": "3.7.3"
  }
 },
 "nbformat": 4,
 "nbformat_minor": 2
}
